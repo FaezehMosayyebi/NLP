{
  "nbformat": 4,
  "nbformat_minor": 0,
  "metadata": {
    "colab": {
      "provenance": []
    },
    "kernelspec": {
      "name": "python3",
      "display_name": "Python 3"
    },
    "language_info": {
      "name": "python"
    }
  },
  "cells": [
    {
      "cell_type": "code",
      "execution_count": 1,
      "metadata": {
        "id": "h3qw4MOD8Dv-"
      },
      "outputs": [],
      "source": [
        "import re"
      ]
    },
    {
      "cell_type": "code",
      "source": [
        "sentence = \"     BIBASILAR OPACITIES,likely representing bilateral pleural effusions with ATELECTASIS   and/or PNEUMONIA/bronchopneumonia..\""
      ],
      "metadata": {
        "id": "f20JfL8ITtar"
      },
      "execution_count": 23,
      "outputs": []
    },
    {
      "cell_type": "code",
      "source": [
        "# Step 1: Convert to lowercase only\n",
        "sentence = sentence.lower()\n",
        "sentence"
      ],
      "metadata": {
        "colab": {
          "base_uri": "https://localhost:8080/",
          "height": 35
        },
        "id": "T6QjHLq-TvOk",
        "outputId": "ab6f7fd7-1937-4a72-8088-87f4cbc756ca"
      },
      "execution_count": 24,
      "outputs": [
        {
          "output_type": "execute_result",
          "data": {
            "text/plain": [
              "'     bibasilar opacities,likely representing bilateral pleural effusions with atelectasis   and/or pneumonia/bronchopneumonia..'"
            ],
            "application/vnd.google.colaboratory.intrinsic+json": {
              "type": "string"
            }
          },
          "metadata": {},
          "execution_count": 24
        }
      ]
    },
    {
      "cell_type": "code",
      "source": [
        "# Step 2: and/or -> or\n",
        "sentence = re.sub('and/or', 'or', sentence)\n",
        "sentence"
      ],
      "metadata": {
        "colab": {
          "base_uri": "https://localhost:8080/",
          "height": 35
        },
        "id": "PWXgRpfxUFm9",
        "outputId": "c31ecc0b-9ada-4414-f1aa-ddc5c7fbf916"
      },
      "execution_count": 25,
      "outputs": [
        {
          "output_type": "execute_result",
          "data": {
            "text/plain": [
              "'     bibasilar opacities,likely representing bilateral pleural effusions with atelectasis   or pneumonia/bronchopneumonia..'"
            ],
            "application/vnd.google.colaboratory.intrinsic+json": {
              "type": "string"
            }
          },
          "metadata": {},
          "execution_count": 25
        }
      ]
    },
    {
      "cell_type": "code",
      "source": [
        "# Step 3: / -> or\n",
        "\n",
        "sentence = re.sub('(?<=[a-zA-Z])/(?=[a-zA-Z])', ' or ', sentence)\n",
        "sentence"
      ],
      "metadata": {
        "colab": {
          "base_uri": "https://localhost:8080/",
          "height": 35
        },
        "id": "FVIYg2quUvL1",
        "outputId": "c2cd7ab2-6a09-4bea-96a5-6f4ba6f38db0"
      },
      "execution_count": 26,
      "outputs": [
        {
          "output_type": "execute_result",
          "data": {
            "text/plain": [
              "'     bibasilar opacities,likely representing bilateral pleural effusions with atelectasis   or pneumonia or bronchopneumonia..'"
            ],
            "application/vnd.google.colaboratory.intrinsic+json": {
              "type": "string"
            }
          },
          "metadata": {},
          "execution_count": 26
        }
      ]
    },
    {
      "cell_type": "code",
      "source": [
        "#Step 4: .. -> .\n",
        "sentence = re.sub(\"\\.\\.\", \".\", sentence)\n",
        "sentence"
      ],
      "metadata": {
        "colab": {
          "base_uri": "https://localhost:8080/",
          "height": 35
        },
        "id": "ntRIvTHCWwX-",
        "outputId": "80221256-ffde-4576-c22f-33014276e054"
      },
      "execution_count": 28,
      "outputs": [
        {
          "output_type": "execute_result",
          "data": {
            "text/plain": [
              "'     bibasilar opacities,likely representing bilateral pleural effusions with atelectasis   or pneumonia or bronchopneumonia.'"
            ],
            "application/vnd.google.colaboratory.intrinsic+json": {
              "type": "string"
            }
          },
          "metadata": {},
          "execution_count": 28
        }
      ]
    },
    {
      "cell_type": "code",
      "source": [
        "#Step 5: Add Whitespace after Punctuation\n",
        "translation_dict = {key: f\"{key} \" for key in \".,\"}\n",
        "\n",
        "display(translation_dict)\n",
        "\n",
        "for key, val in translation_dict.items():\n",
        "  print(f'key: |{key}| \\tval:|{val}|')"
      ],
      "metadata": {
        "colab": {
          "base_uri": "https://localhost:8080/",
          "height": 69
        },
        "id": "Jm7EiOGWYoJZ",
        "outputId": "80b5fcdc-3e8e-41f5-cdb6-ffd6a76f8bcb"
      },
      "execution_count": 39,
      "outputs": [
        {
          "output_type": "display_data",
          "data": {
            "text/plain": [
              "{'.': '. ', ',': ', '}"
            ]
          },
          "metadata": {}
        },
        {
          "output_type": "stream",
          "name": "stdout",
          "text": [
            "key: |.| \tval:|. |\n",
            "key: |,| \tval:|, |\n"
          ]
        }
      ]
    },
    {
      "cell_type": "code",
      "source": [
        "punctuation_spacer  = str.maketrans(translation_dict)\n",
        "\n",
        "sentence = sentence.translate(punctuation_spacer)\n",
        "sentence"
      ],
      "metadata": {
        "colab": {
          "base_uri": "https://localhost:8080/",
          "height": 35
        },
        "id": "4TnO1HM6cRml",
        "outputId": "da652a62-b313-4a56-d412-8704cfbd7369"
      },
      "execution_count": 40,
      "outputs": [
        {
          "output_type": "execute_result",
          "data": {
            "text/plain": [
              "'     bibasilar opacities, likely representing bilateral pleural effusions with atelectasis   or pneumonia or bronchopneumonia. '"
            ],
            "application/vnd.google.colaboratory.intrinsic+json": {
              "type": "string"
            }
          },
          "metadata": {},
          "execution_count": 40
        }
      ]
    },
    {
      "cell_type": "code",
      "source": [
        "# Step 6: Trim Whitespace\n",
        "sentence_list = sentence.split()\n",
        "sentence_list"
      ],
      "metadata": {
        "colab": {
          "base_uri": "https://localhost:8080/"
        },
        "id": "deIoD1qhcpNo",
        "outputId": "bba7a891-1186-4bfb-9046-123d03986b3b"
      },
      "execution_count": 41,
      "outputs": [
        {
          "output_type": "execute_result",
          "data": {
            "text/plain": [
              "['bibasilar',\n",
              " 'opacities,',\n",
              " 'likely',\n",
              " 'representing',\n",
              " 'bilateral',\n",
              " 'pleural',\n",
              " 'effusions',\n",
              " 'with',\n",
              " 'atelectasis',\n",
              " 'or',\n",
              " 'pneumonia',\n",
              " 'or',\n",
              " 'bronchopneumonia.']"
            ]
          },
          "metadata": {},
          "execution_count": 41
        }
      ]
    },
    {
      "cell_type": "code",
      "source": [
        "sentence= ' '.join(sentence_list)\n",
        "sentence"
      ],
      "metadata": {
        "colab": {
          "base_uri": "https://localhost:8080/",
          "height": 35
        },
        "id": "eDIC15dQc86-",
        "outputId": "bb8c5ee2-fef2-4047-fe7d-8a5991bab9b2"
      },
      "execution_count": 42,
      "outputs": [
        {
          "output_type": "execute_result",
          "data": {
            "text/plain": [
              "'bibasilar opacities, likely representing bilateral pleural effusions with atelectasis or pneumonia or bronchopneumonia.'"
            ],
            "application/vnd.google.colaboratory.intrinsic+json": {
              "type": "string"
            }
          },
          "metadata": {},
          "execution_count": 42
        }
      ]
    },
    {
      "cell_type": "code",
      "source": [
        "# All together\n",
        "def clean(sentence):\n",
        "    lower_sentence = sentence.lower()\n",
        "    corrected_sentence = re.sub('and/or', 'or', lower_sentence)\n",
        "    corrected_sentence = re.sub('(?<=[a-zA-Z])/(?=[a-zA-Z])', ' or ', corrected_sentence)\n",
        "    clean_sentence = corrected_sentence.replace(\"..\", \".\")\n",
        "    punctuation_spacer = str.maketrans({key: f\"{key} \" for key in \".,\"})\n",
        "    clean_sentence = clean_sentence.translate(punctuation_spacer)\n",
        "    clean_sentence = ' '.join(clean_sentence.split())\n",
        "    return clean_sentence\n",
        "\n",
        "sentences = [\"     BIBASILAR OPACITIES,likely representing bilateral pleural effusions with ATELECTASIS   and/or PNEUMONIA..\",\n",
        "             \"Small left pleural effusion/decreased lung volumes bilaterally.left RetroCardiac Atelectasis.\",\n",
        "             \"PA  and lateral views of the chest demonstrate   clear lungs,with NO focal air space opacity and/or pleural effusion.\",\n",
        "             \"worrisome nodule in the Right Upper  lobe.CANNOT exclude neoplasm..\"]\n",
        "\n",
        "for n, sentence in enumerate(sentences):\n",
        "    print(\"\\n##########################\\n\")\n",
        "    print(f\"Sentence number: {n+1}\")\n",
        "    print(f\"Raw sentence: \\n{sentence}\")\n",
        "    print(f\"Cleaned sentence: \\n{clean(sentence)}\")"
      ],
      "metadata": {
        "colab": {
          "base_uri": "https://localhost:8080/"
        },
        "id": "qXHYQnoKdKS_",
        "outputId": "afbc6042-f97c-4525-e1a9-5e365047cb9d"
      },
      "execution_count": 43,
      "outputs": [
        {
          "output_type": "stream",
          "name": "stdout",
          "text": [
            "\n",
            "##########################\n",
            "\n",
            "Sentence number: 1\n",
            "Raw sentence: \n",
            "     BIBASILAR OPACITIES,likely representing bilateral pleural effusions with ATELECTASIS   and/or PNEUMONIA..\n",
            "Cleaned sentence: \n",
            "bibasilar opacities, likely representing bilateral pleural effusions with atelectasis or pneumonia.\n",
            "\n",
            "##########################\n",
            "\n",
            "Sentence number: 2\n",
            "Raw sentence: \n",
            "Small left pleural effusion/decreased lung volumes bilaterally.left RetroCardiac Atelectasis.\n",
            "Cleaned sentence: \n",
            "small left pleural effusion or decreased lung volumes bilaterally. left retrocardiac atelectasis.\n",
            "\n",
            "##########################\n",
            "\n",
            "Sentence number: 3\n",
            "Raw sentence: \n",
            "PA  and lateral views of the chest demonstrate   clear lungs,with NO focal air space opacity and/or pleural effusion.\n",
            "Cleaned sentence: \n",
            "pa and lateral views of the chest demonstrate clear lungs, with no focal air space opacity or pleural effusion.\n",
            "\n",
            "##########################\n",
            "\n",
            "Sentence number: 4\n",
            "Raw sentence: \n",
            "worrisome nodule in the Right Upper  lobe.CANNOT exclude neoplasm..\n",
            "Cleaned sentence: \n",
            "worrisome nodule in the right upper lobe. cannot exclude neoplasm.\n"
          ]
        }
      ]
    }
  ]
}